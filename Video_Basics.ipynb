{
 "cells": [
  {
   "cell_type": "markdown",
   "metadata": {},
   "source": [
    "# OpenCV Video Basics"
   ]
  },
  {
   "cell_type": "markdown",
   "metadata": {},
   "source": [
    "### Basic with video recording and saving"
   ]
  },
  {
   "cell_type": "markdown",
   "metadata": {},
   "source": [
    "The following cell may be run here or as a python script, it begins a video recording from your computer's webcam, and saves the file at the location specified and with the given name"
   ]
  },
  {
   "cell_type": "code",
   "execution_count": 1,
   "metadata": {},
   "outputs": [],
   "source": [
    "import cv2\n",
    "\n",
    "# Initialize the Capture\n",
    "cap = cv2.VideoCapture(0)\n",
    "\n",
    "width = int(cap.get(cv2.CAP_PROP_FRAME_WIDTH))\n",
    "height = int(cap.get(cv2.CAP_PROP_FRAME_HEIGHT))\n",
    "\n",
    "writer = cv2.VideoWriter('mynewvideo.mp4', cv2.VideoWriter_fourcc(*'DIVX'), 20, (width, height))\n",
    "\n",
    "while(True):\n",
    "    ret, frame = cap.read()\n",
    "    \n",
    "    cv2.cvtColor(frame, cv2.COLOR_BGR2GRAY)\n",
    "    \n",
    "    writer.write(frame)\n",
    "    \n",
    "    # Cv2 imshow, not matplotlib\n",
    "    cv2.imshow('frame', frame)\n",
    "    \n",
    "    if(cv2.waitKey(1) & 0xFF == ord('q')):\n",
    "        break\n",
    "\n",
    "# Release the capture, writer and destroy all cv2 windows\n",
    "cap.release()\n",
    "writer.release()\n",
    "cv2.destroyAllWindows()"
   ]
  },
  {
   "cell_type": "markdown",
   "metadata": {},
   "source": [
    "### Play a saved video"
   ]
  },
  {
   "cell_type": "code",
   "execution_count": 2,
   "metadata": {},
   "outputs": [],
   "source": [
    "import cv2\n",
    "import time\n",
    "\n",
    "cap = cv2.VideoCapture('mynewvideo.mp4')\n",
    "\n",
    "if(cap.isOpened() == False):\n",
    "    print(\"Error, file not found, or wrong Codec used\")\n",
    "\n",
    "while(cap.isOpened()):\n",
    "    ret, frame = cap.read()\n",
    "    \n",
    "    if(ret == True):\n",
    "        \n",
    "        # Delay 1/FPS, otherwise full video will show instantly\n",
    "        time.sleep(1/20)\n",
    "        cv2.imshow('frame', frame)\n",
    "        \n",
    "        if(cv2.waitKey(1) & 0xFF == ord('q')):\n",
    "            break\n",
    "    \n",
    "    else:\n",
    "        break\n",
    "    \n",
    "cap.release()\n",
    "cv2.destroyAllWindows()"
   ]
  },
  {
   "cell_type": "markdown",
   "metadata": {},
   "source": [
    "If we don't delay it using time.sleep(1/FPS), (you can comment that line and try it), the video shows very quickly. This is uselful if we don't actually want to see the video, but just want to perform some operations on it"
   ]
  },
  {
   "cell_type": "markdown",
   "metadata": {},
   "source": [
    "### Draw a simple rectangle on the video"
   ]
  },
  {
   "cell_type": "code",
   "execution_count": 3,
   "metadata": {},
   "outputs": [],
   "source": [
    "import cv2\n",
    "\n",
    "cap = cv2.VideoCapture(0)\n",
    "\n",
    "width = int(cap.get(cv2.CAP_PROP_FRAME_WIDTH))\n",
    "height = int(cap.get(cv2.CAP_PROP_FRAME_HEIGHT))\n",
    "\n",
    "\n",
    "x = width // 2\n",
    "y = height // 2\n",
    "\n",
    "rect_w = width // 4\n",
    "rect_h = height // 4\n",
    "\n",
    "while True:\n",
    "    ret, frame = cap.read()\n",
    "    \n",
    "    cv2.rectangle(frame, (x, y), (x + rect_w, y + rect_h), color = (0, 255, 0), thickness = 4)\n",
    "    \n",
    "    cv2.imshow('frame', frame)\n",
    "    \n",
    "    if(cv2.waitKey(1) & 0xFF == ord('q')):\n",
    "        break\n",
    "    \n",
    "cap.release()\n",
    "cv2.destroyAllWindows()"
   ]
  },
  {
   "cell_type": "markdown",
   "metadata": {},
   "source": [
    "### Draw a rectangle with 2 dots on a cam recording"
   ]
  },
  {
   "cell_type": "markdown",
   "metadata": {},
   "source": [
    "While the webcam feed is ongoing, click twice on the application to draw a rectangle"
   ]
  },
  {
   "cell_type": "code",
   "execution_count": 4,
   "metadata": {},
   "outputs": [],
   "source": [
    "import cv2\n",
    "\n",
    "cap = cv2.VideoCapture(0)\n",
    "\n",
    "# Global variables\n",
    "point1 = (0, 0)\n",
    "point2 = (0, 0)\n",
    "clickedOne = False\n",
    "clickedTwo = False\n",
    "\n",
    "\n",
    "# Callback function for rectangle\n",
    "def draw_rectangle(event, x, y, flags, params):\n",
    "    global point1, point2, clickedOne, clickedTwo\n",
    "    \n",
    "    if(event == cv2.EVENT_LBUTTONDOWN):\n",
    "        if(clickedOne == False):\n",
    "            point1 = (x, y)\n",
    "            clickedOne = True\n",
    "        elif(clickedOne and clickedTwo == False):\n",
    "            point2 = (x, y)\n",
    "            clickedTwo = True\n",
    "        elif(clickedOne and clickedTwo):\n",
    "            point1 = (x, y)\n",
    "            point2 = (0, 0)\n",
    "            clickedTwo = False\n",
    "            clickedOne = True\n",
    "            \n",
    "            \n",
    "# Connect to the callback\n",
    "cv2.namedWindow('Test')\n",
    "cv2.setMouseCallback('Test', draw_rectangle)\n",
    "\n",
    "\n",
    "while True:\n",
    "    ret, frame = cap.read()\n",
    "    \n",
    "    # Continual drawing, keep drawing at every instant.\n",
    "    if(clickedOne):\n",
    "        cv2.circle(frame, center = point1, radius = 1, color = (255, 255, 255), thickness = -1)\n",
    "        \n",
    "    if(clickedOne and clickedTwo):\n",
    "        cv2.rectangle(frame, point1, point2, (255, 255, 0), 4)\n",
    "    \n",
    "    cv2.imshow('Test', frame)\n",
    "    if(cv2.waitKey(10) & 0xFF == ord('q')):\n",
    "        break\n",
    "\n",
    "cap.release()\n",
    "cv2.destroyAllWindows()"
   ]
  }
 ],
 "metadata": {
  "kernelspec": {
   "display_name": "Python 3",
   "language": "python",
   "name": "python3"
  },
  "language_info": {
   "codemirror_mode": {
    "name": "ipython",
    "version": 3
   },
   "file_extension": ".py",
   "mimetype": "text/x-python",
   "name": "python",
   "nbconvert_exporter": "python",
   "pygments_lexer": "ipython3",
   "version": "3.8.5"
  }
 },
 "nbformat": 4,
 "nbformat_minor": 4
}
