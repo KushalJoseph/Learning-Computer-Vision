{
 "cells": [
  {
   "cell_type": "markdown",
   "id": "bebf5817",
   "metadata": {},
   "source": [
    "# Keras Basics"
   ]
  },
  {
   "cell_type": "markdown",
   "id": "f0c3e0a2",
   "metadata": {},
   "source": [
    "A very simple (introductory) CV classfication application using Keras library"
   ]
  },
  {
   "cell_type": "code",
   "execution_count": 1,
   "id": "1aa3105a",
   "metadata": {},
   "outputs": [],
   "source": [
    "import numpy as np\n",
    "from numpy import genfromtxt"
   ]
  },
  {
   "cell_type": "code",
   "execution_count": 2,
   "id": "ef0b4ca7",
   "metadata": {},
   "outputs": [
    {
     "name": "stdout",
     "output_type": "stream",
     "text": [
      "[[  3.6216    8.6661   -2.8073   -0.44699   0.     ]\n",
      " [  4.5459    8.1674   -2.4586   -1.4621    0.     ]\n",
      " [  3.866    -2.6383    1.9242    0.10645   0.     ]\n",
      " ...\n",
      " [ -3.7503  -13.4586   17.5932   -2.7771    1.     ]\n",
      " [ -3.5637   -8.3827   12.393    -1.2823    1.     ]\n",
      " [ -2.5419   -0.65804   2.6842    1.1952    1.     ]]\n"
     ]
    }
   ],
   "source": [
    "data = genfromtxt('./DATA/bank_note_data.txt', delimiter = ',')\n",
    "print(data)"
   ]
  },
  {
   "cell_type": "code",
   "execution_count": 3,
   "id": "3c71134e",
   "metadata": {},
   "outputs": [
    {
     "name": "stdout",
     "output_type": "stream",
     "text": [
      "[[  3.6216    8.6661   -2.8073   -0.44699]\n",
      " [  4.5459    8.1674   -2.4586   -1.4621 ]\n",
      " [  3.866    -2.6383    1.9242    0.10645]\n",
      " ...\n",
      " [ -3.7503  -13.4586   17.5932   -2.7771 ]\n",
      " [ -3.5637   -8.3827   12.393    -1.2823 ]\n",
      " [ -2.5419   -0.65804   2.6842    1.1952 ]]\n",
      "[0. 0. 0. ... 1. 1. 1.]\n"
     ]
    }
   ],
   "source": [
    "# Features\n",
    "X = data[:, 0:-1]\n",
    "print(X)\n",
    "\n",
    "# Actual Values\n",
    "y = data[:, -1]\n",
    "print(y)"
   ]
  },
  {
   "cell_type": "code",
   "execution_count": 4,
   "id": "d491d1a1",
   "metadata": {},
   "outputs": [],
   "source": [
    "from sklearn.model_selection import train_test_split\n",
    "X_train, X_test, y_train, y_test = train_test_split(X, y, test_size = 0.3, random_state = 42)"
   ]
  },
  {
   "cell_type": "code",
   "execution_count": 5,
   "id": "36c82434",
   "metadata": {},
   "outputs": [],
   "source": [
    "from sklearn.preprocessing import MinMaxScaler\n",
    "scaler_obj = MinMaxScaler()\n",
    "\n",
    "# We fit only to X_train so that we don't peek into what's inside test data yet.\n",
    "scaler_obj.fit(X_train)\n",
    "\n",
    "X_train = scaler_obj.transform(X_train)\n",
    "X_test = scaler_obj.transform(X_test)"
   ]
  },
  {
   "cell_type": "code",
   "execution_count": 7,
   "id": "ee1d2193",
   "metadata": {},
   "outputs": [],
   "source": [
    "from keras.models import Sequential\n",
    "from keras.layers import Dense"
   ]
  },
  {
   "cell_type": "markdown",
   "id": "1fef227e",
   "metadata": {},
   "source": [
    "### Create the Neural Network, start with model = Sequential()"
   ]
  },
  {
   "cell_type": "code",
   "execution_count": 8,
   "id": "3964733e",
   "metadata": {},
   "outputs": [],
   "source": [
    "model = Sequential()\n",
    "\n",
    "model.add(Dense(units = 4, input_dim = 4, activation = \"relu\"))\n",
    "model.add(Dense(units = 8, activation = \"relu\"))\n",
    "model.add(Dense(units = 8, activation = \"relu\"))\n",
    "model.add(Dense(units = 1, activation = \"sigmoid\"))"
   ]
  },
  {
   "cell_type": "code",
   "execution_count": 9,
   "id": "880d9bb3",
   "metadata": {},
   "outputs": [
    {
     "name": "stdout",
     "output_type": "stream",
     "text": [
      "WARNING:tensorflow:From C:\\Users\\hp\\.conda\\envs\\tensorflow\\lib\\site-packages\\tensorflow\\python\\ops\\nn_impl.py:180: add_dispatch_support.<locals>.wrapper (from tensorflow.python.ops.array_ops) is deprecated and will be removed in a future version.\n",
      "Instructions for updating:\n",
      "Use tf.where in 2.0, which has the same broadcast rule as np.where\n",
      "WARNING:tensorflow:From C:\\Users\\hp\\.conda\\envs\\tensorflow\\lib\\site-packages\\keras\\backend\\tensorflow_backend.py:422: The name tf.global_variables is deprecated. Please use tf.compat.v1.global_variables instead.\n",
      "\n",
      "Epoch 1/50\n",
      " - 1s - loss: 0.6923 - accuracy: 0.5552\n",
      "Epoch 2/50\n",
      " - 0s - loss: 0.6880 - accuracy: 0.5708\n",
      "Epoch 3/50\n",
      " - 0s - loss: 0.6820 - accuracy: 0.6177\n",
      "Epoch 4/50\n",
      " - 0s - loss: 0.6727 - accuracy: 0.6667\n",
      "Epoch 5/50\n",
      " - 0s - loss: 0.6572 - accuracy: 0.6792\n",
      "Epoch 6/50\n",
      " - 0s - loss: 0.6272 - accuracy: 0.6990\n",
      "Epoch 7/50\n",
      " - 0s - loss: 0.5888 - accuracy: 0.7510\n",
      "Epoch 8/50\n",
      " - 0s - loss: 0.5363 - accuracy: 0.7948\n",
      "Epoch 9/50\n",
      " - 0s - loss: 0.4892 - accuracy: 0.8094\n",
      "Epoch 10/50\n",
      " - 0s - loss: 0.4438 - accuracy: 0.8417\n",
      "Epoch 11/50\n",
      " - 0s - loss: 0.3995 - accuracy: 0.8802\n",
      "Epoch 12/50\n",
      " - 0s - loss: 0.3609 - accuracy: 0.8958\n",
      "Epoch 13/50\n",
      " - 0s - loss: 0.3285 - accuracy: 0.9031\n",
      "Epoch 14/50\n",
      " - 0s - loss: 0.2978 - accuracy: 0.9094\n",
      "Epoch 15/50\n",
      " - 0s - loss: 0.2745 - accuracy: 0.9240\n",
      "Epoch 16/50\n",
      " - 0s - loss: 0.2514 - accuracy: 0.9229\n",
      "Epoch 17/50\n",
      " - 0s - loss: 0.2318 - accuracy: 0.9312\n",
      "Epoch 18/50\n",
      " - 0s - loss: 0.2160 - accuracy: 0.9323\n",
      "Epoch 19/50\n",
      " - 0s - loss: 0.1987 - accuracy: 0.9365\n",
      "Epoch 20/50\n",
      " - 0s - loss: 0.1867 - accuracy: 0.9427\n",
      "Epoch 21/50\n",
      " - 0s - loss: 0.1722 - accuracy: 0.9479\n",
      "Epoch 22/50\n",
      " - 0s - loss: 0.1592 - accuracy: 0.9531\n",
      "Epoch 23/50\n",
      " - 0s - loss: 0.1488 - accuracy: 0.9552\n",
      "Epoch 24/50\n",
      " - 0s - loss: 0.1385 - accuracy: 0.9604\n",
      "Epoch 25/50\n",
      " - 0s - loss: 0.1295 - accuracy: 0.9625\n",
      "Epoch 26/50\n",
      " - 0s - loss: 0.1209 - accuracy: 0.9667\n",
      "Epoch 27/50\n",
      " - 0s - loss: 0.1135 - accuracy: 0.9688\n",
      "Epoch 28/50\n",
      " - 0s - loss: 0.1048 - accuracy: 0.9781\n",
      "Epoch 29/50\n",
      " - 0s - loss: 0.0984 - accuracy: 0.9823\n",
      "Epoch 30/50\n",
      " - 0s - loss: 0.0924 - accuracy: 0.9865\n",
      "Epoch 31/50\n",
      " - 0s - loss: 0.0893 - accuracy: 0.9844\n",
      "Epoch 32/50\n",
      " - 0s - loss: 0.0838 - accuracy: 0.9865\n",
      "Epoch 33/50\n",
      " - 0s - loss: 0.0783 - accuracy: 0.9896\n",
      "Epoch 34/50\n",
      " - 0s - loss: 0.0758 - accuracy: 0.9875\n",
      "Epoch 35/50\n",
      " - 0s - loss: 0.0720 - accuracy: 0.9906\n",
      "Epoch 36/50\n",
      " - 0s - loss: 0.0690 - accuracy: 0.9896\n",
      "Epoch 37/50\n",
      " - 0s - loss: 0.0651 - accuracy: 0.9917\n",
      "Epoch 38/50\n",
      " - 0s - loss: 0.0635 - accuracy: 0.9927\n",
      "Epoch 39/50\n",
      " - 0s - loss: 0.0611 - accuracy: 0.9937\n",
      "Epoch 40/50\n",
      " - 0s - loss: 0.0583 - accuracy: 0.9948\n",
      "Epoch 41/50\n",
      " - 0s - loss: 0.0560 - accuracy: 0.9937\n",
      "Epoch 42/50\n",
      " - 0s - loss: 0.0538 - accuracy: 0.9937\n",
      "Epoch 43/50\n",
      " - 0s - loss: 0.0534 - accuracy: 0.9948\n",
      "Epoch 44/50\n",
      " - 0s - loss: 0.0507 - accuracy: 0.9958\n",
      "Epoch 45/50\n",
      " - 0s - loss: 0.0492 - accuracy: 0.9948\n",
      "Epoch 46/50\n",
      " - 0s - loss: 0.0480 - accuracy: 0.9958\n",
      "Epoch 47/50\n",
      " - 0s - loss: 0.0464 - accuracy: 0.9958\n",
      "Epoch 48/50\n",
      " - 0s - loss: 0.0455 - accuracy: 0.9958\n",
      "Epoch 49/50\n",
      " - 0s - loss: 0.0437 - accuracy: 0.9958\n",
      "Epoch 50/50\n",
      " - 0s - loss: 0.0422 - accuracy: 0.9958\n"
     ]
    },
    {
     "data": {
      "text/plain": [
       "<keras.callbacks.callbacks.History at 0x2cd22ee3b08>"
      ]
     },
     "execution_count": 9,
     "metadata": {},
     "output_type": "execute_result"
    }
   ],
   "source": [
    "model.compile(optimizer = 'adam', loss = 'binary_crossentropy', metrics = ['accuracy'])\n",
    "model.fit(X_train, y_train, epochs = 50, verbose = 2)"
   ]
  },
  {
   "cell_type": "code",
   "execution_count": 10,
   "id": "b4952a35",
   "metadata": {},
   "outputs": [],
   "source": [
    "predictions = model.predict_classes(X_test)"
   ]
  },
  {
   "cell_type": "code",
   "execution_count": 11,
   "id": "7b010214",
   "metadata": {},
   "outputs": [
    {
     "data": {
      "text/plain": [
       "array([[226,   3],\n",
       "       [  0, 183]], dtype=int64)"
      ]
     },
     "execution_count": 11,
     "metadata": {},
     "output_type": "execute_result"
    }
   ],
   "source": [
    "from sklearn.metrics import confusion_matrix, classification_report\n",
    "\n",
    "confusion_matrix(y_test, predictions)"
   ]
  },
  {
   "cell_type": "code",
   "execution_count": 12,
   "id": "dcc05d8f",
   "metadata": {},
   "outputs": [
    {
     "name": "stdout",
     "output_type": "stream",
     "text": [
      "              precision    recall  f1-score   support\n",
      "\n",
      "         0.0       1.00      0.99      0.99       229\n",
      "         1.0       0.98      1.00      0.99       183\n",
      "\n",
      "    accuracy                           0.99       412\n",
      "   macro avg       0.99      0.99      0.99       412\n",
      "weighted avg       0.99      0.99      0.99       412\n",
      "\n"
     ]
    }
   ],
   "source": [
    "print(classification_report(y_test, predictions))"
   ]
  },
  {
   "cell_type": "code",
   "execution_count": 13,
   "id": "773c4b31",
   "metadata": {},
   "outputs": [],
   "source": [
    "model.save('bank_notes_validator.h5')"
   ]
  },
  {
   "cell_type": "code",
   "execution_count": 14,
   "id": "fa651fa8",
   "metadata": {},
   "outputs": [
    {
     "data": {
      "text/plain": [
       "array([[226,   3],\n",
       "       [  0, 183]], dtype=int64)"
      ]
     },
     "execution_count": 14,
     "metadata": {},
     "output_type": "execute_result"
    }
   ],
   "source": [
    "from keras.models import load_model\n",
    "\n",
    "bank_notes_validator = load_model('bank_notes_validator.h5')\n",
    "predictions = bank_notes_validator.predict_classes(X_test)\n",
    "confusion_matrix(y_test, predictions)"
   ]
  }
 ],
 "metadata": {
  "kernelspec": {
   "display_name": "Python 3",
   "language": "python",
   "name": "python3"
  },
  "language_info": {
   "codemirror_mode": {
    "name": "ipython",
    "version": 3
   },
   "file_extension": ".py",
   "mimetype": "text/x-python",
   "name": "python",
   "nbconvert_exporter": "python",
   "pygments_lexer": "ipython3",
   "version": "3.7.10"
  }
 },
 "nbformat": 4,
 "nbformat_minor": 5
}
