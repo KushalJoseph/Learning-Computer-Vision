{
 "cells": [
  {
   "cell_type": "markdown",
   "metadata": {},
   "source": [
    "# Demo of watershed Algorithm, segmenting by clicking"
   ]
  },
  {
   "cell_type": "markdown",
   "metadata": {},
   "source": [
    "Run all the cells and the final application cell. This opens 2 windows, one with the actual image and the other on which the \"seeds\" of the Watershed algorithm will be created. \n",
    "Use 0-9 to select a color, then click at any point on the actual-image window. You will see a segment with that point as a seed and your chosen colour\n",
    "\n",
    "Note: To start over, please run all cells again"
   ]
  },
  {
   "cell_type": "code",
   "execution_count": 1,
   "metadata": {},
   "outputs": [],
   "source": [
    "import numpy as np\n",
    "import matplotlib.pyplot as plt\n",
    "import cv2"
   ]
  },
  {
   "cell_type": "code",
   "execution_count": 2,
   "metadata": {},
   "outputs": [],
   "source": [
    "road = cv2.imread('./DATA/road_image.jpg')\n",
    "road_copy = road.copy()"
   ]
  },
  {
   "cell_type": "markdown",
   "metadata": {},
   "source": [
    "Note: We use color correction for the sole purpose of Matplotlib viewing. But remember that for application showing, we use cv2.imshow('name', image) instead of plt.show(). So, in case of application viewing (popup types), there is no need to do color corrections"
   ]
  },
  {
   "cell_type": "markdown",
   "metadata": {},
   "source": [
    "### Create the marker image, 2D only"
   ]
  },
  {
   "cell_type": "code",
   "execution_count": 3,
   "metadata": {},
   "outputs": [
    {
     "name": "stdout",
     "output_type": "stream",
     "text": [
      "(600, 800, 3)\n",
      "(600, 800)\n"
     ]
    }
   ],
   "source": [
    "print(road.shape)\n",
    "print(road.shape[:2])\n",
    "marker_image = np.zeros(road.shape[:2], dtype = np.int32)"
   ]
  },
  {
   "cell_type": "markdown",
   "metadata": {},
   "source": [
    "### Create the segments image, 3D"
   ]
  },
  {
   "cell_type": "code",
   "execution_count": 4,
   "metadata": {},
   "outputs": [
    {
     "data": {
      "text/plain": [
       "(600, 800, 3)"
      ]
     },
     "execution_count": 4,
     "metadata": {},
     "output_type": "execute_result"
    }
   ],
   "source": [
    "segments = np.zeros(road.shape, dtype = np.uint8)\n",
    "segments.shape"
   ]
  },
  {
   "cell_type": "markdown",
   "metadata": {},
   "source": [
    "### Qualitative color mapping:"
   ]
  },
  {
   "cell_type": "markdown",
   "metadata": {},
   "source": [
    "The idea is to press a number from 0 - 9 which selects a particular color. For this we use the qualitative color mapping, cm.tab10"
   ]
  },
  {
   "cell_type": "code",
   "execution_count": 5,
   "metadata": {},
   "outputs": [],
   "source": [
    "from matplotlib import cm"
   ]
  },
  {
   "cell_type": "markdown",
   "metadata": {},
   "source": [
    "#### A function that creates and sends back the color tuple, when required"
   ]
  },
  {
   "cell_type": "code",
   "execution_count": 6,
   "metadata": {},
   "outputs": [],
   "source": [
    "def create_rgb(i):\n",
    "    return tuple(np.array(cm.tab10(i)[:3]) * 255)"
   ]
  },
  {
   "cell_type": "code",
   "execution_count": 7,
   "metadata": {},
   "outputs": [
    {
     "name": "stdout",
     "output_type": "stream",
     "text": [
      "[(31.0, 119.0, 180.0), (255.0, 127.0, 14.0), (44.0, 160.0, 44.0), (214.0, 39.0, 40.0), (148.0, 103.0, 189.0), (140.0, 86.0, 75.0), (227.0, 119.0, 194.0), (127.0, 127.0, 127.0), (188.0, 189.0, 34.0), (23.0, 190.0, 207.0)]\n"
     ]
    }
   ],
   "source": [
    "colors = []\n",
    "for i in range(10):\n",
    "    colors.append(create_rgb(i))\n",
    "\n",
    "print(colors)\n",
    "\n",
    "# As we can see below, 10 colors are added to colors[]"
   ]
  },
  {
   "cell_type": "markdown",
   "metadata": {},
   "source": [
    "## Application:"
   ]
  },
  {
   "cell_type": "code",
   "execution_count": 8,
   "metadata": {},
   "outputs": [],
   "source": [
    "# GLOBAL VARIBLES:\n",
    "current_marker = 1\n",
    "marks_updated = False\n",
    "\n",
    "# CALLBACK FUNCTION:\n",
    "def mouse_callback(event, x, y, flags, param):\n",
    "    global marks_updated\n",
    "    \n",
    "    if(event == cv2.EVENT_LBUTTONDOWN):\n",
    "        \n",
    "        # MARKERS PASSED TO WATERSHED\n",
    "        cv2.circle(marker_image, center = (x, y), radius = 5, color = current_marker, thickness = -1)\n",
    "        \n",
    "        # USER SEES:\n",
    "        cv2.circle(road_copy, center = (x, y), radius = 5, color = colors[current_marker], thickness = -1)\n",
    "        \n",
    "        marks_updated = True\n",
    "        \n",
    "        \n",
    "# CONNECTING THE CALLBACK:\n",
    "cv2.namedWindow(winname = 'Road Image')\n",
    "cv2.setMouseCallback('Road Image', mouse_callback)\n",
    "\n",
    "\n",
    "while True:\n",
    "    cv2.imshow('Watershed Segments', segments)\n",
    "    cv2.imshow('Road Image', road_copy)\n",
    "    \n",
    "    \n",
    "    k = cv2.waitKey(1)\n",
    "    \n",
    "    if(k == 27):\n",
    "        break\n",
    "    \n",
    "    # CLEAR ALL COLORS (RESET) ON PRESSING \"c\"\n",
    "    elif(k == ord('c')):\n",
    "        road_copy = road.copy()\n",
    "        marker_image = np.zeros(road.shape[:2], np.int32)\n",
    "        segments = np.zeros(road.shape, np.uint8)\n",
    "    \n",
    "    \n",
    "    # UPDATE COLOR CHOICE: (ON NUMBER PRESS 0-9), choose that particular color\n",
    "    elif(k > 0 and chr(k).isdigit()):            # chr: Convert ASCII value to actual digit, still a string,\n",
    "        current_marker = int(chr(k))             #      which is why we take int(chr(k))\n",
    "    \n",
    "    \n",
    "    # UPDATE MARKINGS:\n",
    "    if(marks_updated):\n",
    "        marker_image_copy = marker_image.copy()\n",
    "        cv2.watershed(road, marker_image_copy)\n",
    "        \n",
    "        segments = np.zeros(road.shape, dtype = np.uint8)\n",
    "        \n",
    "        for i in range(len(colors)):\n",
    "            # COLOR THE SEGMENTS\n",
    "            segments[marker_image_copy == i] = colors[i]\n",
    "        marks_updated = False\n",
    "\n",
    "\n",
    "cv2.destroyAllWindows()"
   ]
  }
 ],
 "metadata": {
  "kernelspec": {
   "display_name": "Python 3",
   "language": "python",
   "name": "python3"
  },
  "language_info": {
   "codemirror_mode": {
    "name": "ipython",
    "version": 3
   },
   "file_extension": ".py",
   "mimetype": "text/x-python",
   "name": "python",
   "nbconvert_exporter": "python",
   "pygments_lexer": "ipython3",
   "version": "3.7.10"
  }
 },
 "nbformat": 4,
 "nbformat_minor": 4
}
